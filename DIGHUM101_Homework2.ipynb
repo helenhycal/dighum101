{
 "cells": [
  {
   "cell_type": "markdown",
   "metadata": {},
   "source": [
    "# DIGHUM101-Homework2\n",
    "**Assigned:** June 4, 2018  \n",
    "**Due:** June 21, 2018 (before 11:59:59PM)\n",
    "\n",
    "**How to submit:** \n",
    "1. Create your personal assistant file  \n",
    "2. Successfully 1) create a GitHub repository and 2) add two files to it.  \n",
    "3. Visit the bCourses site to submit: \n",
    "    - a screenshot of the contents of your `assistant.sh` file in vim.  \n",
    "    - a screenshot of your GitHub repo with files inside of it. \n",
    "    \n",
    "**NAMING YOUR SCREENSHOTS:** The vim screenshot should be named \"lastname_vim.png\" and the GitHub screenshot should be named \"lastname_github.png\". PNG or JPG files types will be accepted. \n",
    "    \n",
    "**Description:** practice using Bash to navigate the HFS, code the personal assistant in a Bash script (.sh) file; create and add files to your GitHub   "
   ]
  },
  {
   "cell_type": "markdown",
   "metadata": {},
   "source": [
    "# Code the personal assistant\n",
    "\n",
    "As you will learn more about in Week 4, modern [automated personal assistants](https://en.wikipedia.org/wiki/Automated_personal_assistant) are supercharged versions of what you can do in **`Bash`** using the handful of commands you have learned so far.  \n",
    "\n",
    "While Alexa, Cortana, and Siri use complicated machine learning algorithms to interact with users, simple Bash commands also give us the ability to combine multiple things into a single executable program.  "
   ]
  },
  {
   "cell_type": "markdown",
   "metadata": {},
   "source": [
    "### Quick reference\n",
    "\n",
    "**`whoami`** = shows current user  \n",
    "**`pwd`** = shows current working directory  \n",
    "**`ls`** = list contents of working directory  \n",
    "**`cd`** = change directory  \n",
    "**`mkdir`** = make directory  \n",
    "**`touch`** = create file  \n",
    "**`echo`** = like **`print`** in Python  \n",
    "**`>`** = add **`echo`** statement to file  \n",
    "**`cp`** = **`cp source dest`**  \n",
    "**`rm`** = delete"
   ]
  },
  {
   "cell_type": "markdown",
   "metadata": {},
   "source": [
    "### Moving about\n",
    "\n",
    "**Some reminders about moving efficiently:  **\n",
    "\n",
    "Recall that **`cd /`** changes your working directory to the root directory  \n",
    "\n",
    "**`cd ~`** changes the working directory to the home directory  \n",
    "\n",
    "**`cd ..`** goes towards root one level  \n",
    "\n",
    "**`cd dir_name`** goes one level away from the root  "
   ]
  },
  {
   "cell_type": "markdown",
   "metadata": {},
   "source": [
    "# Example workflow\n",
    "\n",
    "**Follow this workflow to refresh your memory:  **\n",
    "\n",
    "1. Set working directory to root **`cd /`**  \n",
    "\n",
    "2. Set working directory to home **`cd ~`**  \n",
    "\n",
    "3. **`cd`** into your Desktop. We just moved one level down/away from the root - from \"home\" to \"Desktop **`cd Desktop`**  \n",
    "\n",
    "4. Create a directory on your desktop named  PA101  **`mkdir PA101`**  \n",
    "\n",
    "5. Create a file inside of PA101 named  **`assistant.sh`  **  \n",
    "\n",
    "6. Open vim by typing **`vim assistant.sh`** at the Bash prompt and you will see a blank screen "
   ]
  },
  {
   "cell_type": "markdown",
   "metadata": {},
   "source": [
    "![vim](../Week3/img/v.png)"
   ]
  },
  {
   "cell_type": "markdown",
   "metadata": {},
   "source": [
    "# vim\n",
    "\n",
    "vim is a fun and efficient command line text editor. Its raw form makes using it strange at first!  \n",
    "\n",
    "It has two modes that you must switch between to quickly add content, save your work, and exit back to the Bash prompt:  \n",
    "\n",
    "1. **Command mode**  You start vim in command mode. Here you can copy paste chunks of text. You also must switch to command mode before saving and exiting.  \n",
    "    - Press the **esc** key to switch to **command** mode.  \n",
    "    \n",
    "    \n",
    "2. **Insert mode**  Press the **i** key to switch to insert mode. Now you can enter text! \n",
    "\n",
    "    - Press the **i** key to switch to **insert** mode. You will see the word **INSERT** written in all caps in the lower left side of your terminal.  \n",
    "    \n",
    "        - **HINT:** **`printf \"n\\\"`** enters a line break, but **`echo`** prints text! "
   ]
  },
  {
   "cell_type": "markdown",
   "metadata": {},
   "source": [
    "# Switch to insert mode\n",
    "\n",
    "Press the **\"i\"** key. **-- INSERT --** is shows in the lower left corner.  \n",
    "\n",
    "You can now type in your script file! Type **`echo \"Hello, User!\"`**"
   ]
  },
  {
   "cell_type": "markdown",
   "metadata": {},
   "source": [
    "![v2](../Week3/img/v2.png)"
   ]
  },
  {
   "cell_type": "markdown",
   "metadata": {},
   "source": [
    "# Saving your work and return to the Bash promt\n",
    "\n",
    "Type **`esc`**, **`Shift + :`**, **`w`**, **`q`**, and then then **`Enter`** key. "
   ]
  },
  {
   "cell_type": "markdown",
   "metadata": {},
   "source": [
    "# Discard your changes and return to the Bash prompt\n",
    "\n",
    "Type **`esc`**, **`Shift + :`**, **`q`**, **`!`**, and then then **`Enter`** key. "
   ]
  },
  {
   "cell_type": "markdown",
   "metadata": {},
   "source": [
    "# Replicate the script below\n",
    "\n",
    "After you have successfully coded your `assistant.sh` file, type the following command at the Bash prompt to make it an executable file:\n",
    "\n",
    "**`chmod +x assistant.sh`**  \n",
    "\n",
    "Then, to open it as a program type:\n",
    "\n",
    "**`./assistant.sh`**"
   ]
  },
  {
   "cell_type": "markdown",
   "metadata": {},
   "source": [
    "# Your instructions are below:"
   ]
  },
  {
   "cell_type": "markdown",
   "metadata": {},
   "source": [
    "![v3](../Week3/img/v3.png)"
   ]
  },
  {
   "cell_type": "code",
   "execution_count": null,
   "metadata": {
    "collapsed": true
   },
   "outputs": [],
   "source": []
  }
 ],
 "metadata": {
  "kernelspec": {
   "display_name": "Python 3",
   "language": "python",
   "name": "python3"
  },
  "language_info": {
   "codemirror_mode": {
    "name": "ipython",
    "version": 3
   },
   "file_extension": ".py",
   "mimetype": "text/x-python",
   "name": "python",
   "nbconvert_exporter": "python",
   "pygments_lexer": "ipython3",
   "version": "3.6.3"
  }
 },
 "nbformat": 4,
 "nbformat_minor": 2
}
